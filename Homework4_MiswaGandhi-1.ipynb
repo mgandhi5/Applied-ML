{
 "cells": [
  {
   "cell_type": "code",
   "execution_count": 1,
   "id": "6f2634e5",
   "metadata": {},
   "outputs": [],
   "source": [
    "import pandas as pd\n",
    "import matplotlib.pyplot as plt\n",
    "import numpy as np\n",
    "import seaborn as sns\n"
   ]
  },
  {
   "cell_type": "code",
   "execution_count": 18,
   "id": "fde189f9",
   "metadata": {},
   "outputs": [],
   "source": [
    "df = pd.read_csv('C:\\\\Users\\\\Miswa Gandhi\\\\Desktop\\\\titanic.csv')"
   ]
  },
  {
   "cell_type": "markdown",
   "id": "47cf5290",
   "metadata": {},
   "source": [
    "Step 1"
   ]
  },
  {
   "cell_type": "code",
   "execution_count": 19,
   "id": "6ad453c9",
   "metadata": {},
   "outputs": [
    {
     "data": {
      "text/html": [
       "<div>\n",
       "<style scoped>\n",
       "    .dataframe tbody tr th:only-of-type {\n",
       "        vertical-align: middle;\n",
       "    }\n",
       "\n",
       "    .dataframe tbody tr th {\n",
       "        vertical-align: top;\n",
       "    }\n",
       "\n",
       "    .dataframe thead th {\n",
       "        text-align: right;\n",
       "    }\n",
       "</style>\n",
       "<table border=\"1\" class=\"dataframe\">\n",
       "  <thead>\n",
       "    <tr style=\"text-align: right;\">\n",
       "      <th></th>\n",
       "      <th>pclass</th>\n",
       "      <th>sex</th>\n",
       "      <th>age</th>\n",
       "      <th>sibsp</th>\n",
       "      <th>survived</th>\n",
       "    </tr>\n",
       "  </thead>\n",
       "  <tbody>\n",
       "    <tr>\n",
       "      <th>1</th>\n",
       "      <td>1</td>\n",
       "      <td>0.0</td>\n",
       "      <td>0.916700</td>\n",
       "      <td>1</td>\n",
       "      <td>1</td>\n",
       "    </tr>\n",
       "    <tr>\n",
       "      <th>3</th>\n",
       "      <td>1</td>\n",
       "      <td>0.0</td>\n",
       "      <td>30.000000</td>\n",
       "      <td>1</td>\n",
       "      <td>0</td>\n",
       "    </tr>\n",
       "    <tr>\n",
       "      <th>5</th>\n",
       "      <td>1</td>\n",
       "      <td>0.0</td>\n",
       "      <td>48.000000</td>\n",
       "      <td>0</td>\n",
       "      <td>1</td>\n",
       "    </tr>\n",
       "    <tr>\n",
       "      <th>7</th>\n",
       "      <td>1</td>\n",
       "      <td>0.0</td>\n",
       "      <td>39.000000</td>\n",
       "      <td>0</td>\n",
       "      <td>0</td>\n",
       "    </tr>\n",
       "    <tr>\n",
       "      <th>9</th>\n",
       "      <td>1</td>\n",
       "      <td>0.0</td>\n",
       "      <td>71.000000</td>\n",
       "      <td>0</td>\n",
       "      <td>0</td>\n",
       "    </tr>\n",
       "    <tr>\n",
       "      <th>10</th>\n",
       "      <td>1</td>\n",
       "      <td>0.0</td>\n",
       "      <td>47.000000</td>\n",
       "      <td>1</td>\n",
       "      <td>0</td>\n",
       "    </tr>\n",
       "    <tr>\n",
       "      <th>14</th>\n",
       "      <td>1</td>\n",
       "      <td>0.0</td>\n",
       "      <td>80.000000</td>\n",
       "      <td>0</td>\n",
       "      <td>1</td>\n",
       "    </tr>\n",
       "    <tr>\n",
       "      <th>15</th>\n",
       "      <td>1</td>\n",
       "      <td>0.0</td>\n",
       "      <td>29.881135</td>\n",
       "      <td>0</td>\n",
       "      <td>0</td>\n",
       "    </tr>\n",
       "    <tr>\n",
       "      <th>16</th>\n",
       "      <td>1</td>\n",
       "      <td>0.0</td>\n",
       "      <td>24.000000</td>\n",
       "      <td>0</td>\n",
       "      <td>0</td>\n",
       "    </tr>\n",
       "    <tr>\n",
       "      <th>19</th>\n",
       "      <td>1</td>\n",
       "      <td>0.0</td>\n",
       "      <td>36.000000</td>\n",
       "      <td>0</td>\n",
       "      <td>0</td>\n",
       "    </tr>\n",
       "  </tbody>\n",
       "</table>\n",
       "</div>"
      ],
      "text/plain": [
       "    pclass  sex        age  sibsp  survived\n",
       "1        1  0.0   0.916700      1         1\n",
       "3        1  0.0  30.000000      1         0\n",
       "5        1  0.0  48.000000      0         1\n",
       "7        1  0.0  39.000000      0         0\n",
       "9        1  0.0  71.000000      0         0\n",
       "10       1  0.0  47.000000      1         0\n",
       "14       1  0.0  80.000000      0         1\n",
       "15       1  0.0  29.881135      0         0\n",
       "16       1  0.0  24.000000      0         0\n",
       "19       1  0.0  36.000000      0         0"
      ]
     },
     "execution_count": 19,
     "metadata": {},
     "output_type": "execute_result"
    }
   ],
   "source": [
    "df = df[['pclass', 'sex', 'age','sibsp','survived']]\n",
    "df['pclass'] = df['pclass'].map({'1st': 1, '2nd':2, '3rd':3})\n",
    "df['sex'] = df['sex'].map({'male':0, 'Female':1})\n",
    "df['age'].fillna((df['age'].mean()),inplace=True)\n",
    "df = df.dropna()\n",
    "df.head(10)"
   ]
  },
  {
   "cell_type": "code",
   "execution_count": 10,
   "id": "b366245e",
   "metadata": {},
   "outputs": [],
   "source": [
    "from sklearn.model_selection import train_test_split"
   ]
  },
  {
   "cell_type": "code",
   "execution_count": 12,
   "id": "923f429f",
   "metadata": {},
   "outputs": [],
   "source": [
    "X= df.drop('survived', axis = 1)\n",
    "Y= df['survived']\n",
    "X_train, X_test, Y_train, Y_test = train_test_split(X,Y, test_size=0.2)\n"
   ]
  },
  {
   "cell_type": "code",
   "execution_count": 13,
   "id": "5d119edd",
   "metadata": {},
   "outputs": [
    {
     "data": {
      "text/plain": [
       "674"
      ]
     },
     "execution_count": 13,
     "metadata": {},
     "output_type": "execute_result"
    }
   ],
   "source": [
    "len(X_train)"
   ]
  },
  {
   "cell_type": "code",
   "execution_count": 14,
   "id": "f3359c34",
   "metadata": {},
   "outputs": [
    {
     "data": {
      "text/plain": [
       "169"
      ]
     },
     "execution_count": 14,
     "metadata": {},
     "output_type": "execute_result"
    }
   ],
   "source": [
    "len(X_test)"
   ]
  },
  {
   "cell_type": "code",
   "execution_count": 21,
   "id": "3ab2ab2b",
   "metadata": {},
   "outputs": [
    {
     "data": {
      "text/html": [
       "<div>\n",
       "<style scoped>\n",
       "    .dataframe tbody tr th:only-of-type {\n",
       "        vertical-align: middle;\n",
       "    }\n",
       "\n",
       "    .dataframe tbody tr th {\n",
       "        vertical-align: top;\n",
       "    }\n",
       "\n",
       "    .dataframe thead th {\n",
       "        text-align: right;\n",
       "    }\n",
       "</style>\n",
       "<table border=\"1\" class=\"dataframe\">\n",
       "  <thead>\n",
       "    <tr style=\"text-align: right;\">\n",
       "      <th></th>\n",
       "      <th>count</th>\n",
       "      <th>mean</th>\n",
       "      <th>std</th>\n",
       "      <th>min</th>\n",
       "      <th>25%</th>\n",
       "      <th>50%</th>\n",
       "      <th>75%</th>\n",
       "      <th>max</th>\n",
       "    </tr>\n",
       "  </thead>\n",
       "  <tbody>\n",
       "    <tr>\n",
       "      <th>pclass</th>\n",
       "      <td>169.0</td>\n",
       "      <td>2.414201</td>\n",
       "      <td>0.798085</td>\n",
       "      <td>1.0000</td>\n",
       "      <td>2.0</td>\n",
       "      <td>3.000000</td>\n",
       "      <td>3.0</td>\n",
       "      <td>3.0</td>\n",
       "    </tr>\n",
       "    <tr>\n",
       "      <th>sex</th>\n",
       "      <td>169.0</td>\n",
       "      <td>0.000000</td>\n",
       "      <td>0.000000</td>\n",
       "      <td>0.0000</td>\n",
       "      <td>0.0</td>\n",
       "      <td>0.000000</td>\n",
       "      <td>0.0</td>\n",
       "      <td>0.0</td>\n",
       "    </tr>\n",
       "    <tr>\n",
       "      <th>age</th>\n",
       "      <td>169.0</td>\n",
       "      <td>28.774700</td>\n",
       "      <td>11.765738</td>\n",
       "      <td>0.4167</td>\n",
       "      <td>22.0</td>\n",
       "      <td>29.881135</td>\n",
       "      <td>32.0</td>\n",
       "      <td>70.0</td>\n",
       "    </tr>\n",
       "    <tr>\n",
       "      <th>sibsp</th>\n",
       "      <td>169.0</td>\n",
       "      <td>0.461538</td>\n",
       "      <td>1.107335</td>\n",
       "      <td>0.0000</td>\n",
       "      <td>0.0</td>\n",
       "      <td>0.000000</td>\n",
       "      <td>1.0</td>\n",
       "      <td>8.0</td>\n",
       "    </tr>\n",
       "  </tbody>\n",
       "</table>\n",
       "</div>"
      ],
      "text/plain": [
       "        count       mean        std     min   25%        50%   75%   max\n",
       "pclass  169.0   2.414201   0.798085  1.0000   2.0   3.000000   3.0   3.0\n",
       "sex     169.0   0.000000   0.000000  0.0000   0.0   0.000000   0.0   0.0\n",
       "age     169.0  28.774700  11.765738  0.4167  22.0  29.881135  32.0  70.0\n",
       "sibsp   169.0   0.461538   1.107335  0.0000   0.0   0.000000   1.0   8.0"
      ]
     },
     "execution_count": 21,
     "metadata": {},
     "output_type": "execute_result"
    }
   ],
   "source": [
    "X_test.describe().transpose()"
   ]
  },
  {
   "cell_type": "markdown",
   "id": "5bd5d9f3",
   "metadata": {},
   "source": [
    "Step:2"
   ]
  },
  {
   "cell_type": "code",
   "execution_count": 23,
   "id": "ccd381b2",
   "metadata": {},
   "outputs": [],
   "source": [
    "from sklearn.neural_network import MLPClassifier"
   ]
  },
  {
   "cell_type": "code",
   "execution_count": 38,
   "id": "2aa617af",
   "metadata": {},
   "outputs": [
    {
     "name": "stdout",
     "output_type": "stream",
     "text": [
      "Iteration 1, loss = 0.54207100\n",
      "Iteration 2, loss = 0.48003945\n",
      "Iteration 3, loss = 0.48652033\n",
      "Iteration 4, loss = 0.49055789\n",
      "Iteration 5, loss = 0.47869220\n",
      "Iteration 6, loss = 0.47128859\n",
      "Iteration 7, loss = 0.46652377\n",
      "Iteration 8, loss = 0.46600940\n",
      "Iteration 9, loss = 0.46280390\n",
      "Iteration 10, loss = 0.46022420\n",
      "Iteration 11, loss = 0.46039793\n",
      "Iteration 12, loss = 0.45974427\n",
      "Iteration 13, loss = 0.45679413\n",
      "Iteration 14, loss = 0.45688614\n",
      "Iteration 15, loss = 0.45693876\n",
      "Iteration 16, loss = 0.45626720\n",
      "Iteration 17, loss = 0.45714812\n",
      "Iteration 18, loss = 0.45594968\n",
      "Iteration 19, loss = 0.45518093\n",
      "Iteration 20, loss = 0.45582849\n",
      "Iteration 21, loss = 0.45540023\n",
      "Iteration 22, loss = 0.45533238\n",
      "Iteration 23, loss = 0.45566183\n",
      "Iteration 24, loss = 0.45544188\n",
      "Iteration 25, loss = 0.45453333\n",
      "Iteration 26, loss = 0.45553891\n",
      "Iteration 27, loss = 0.45495729\n",
      "Iteration 28, loss = 0.45578908\n",
      "Iteration 29, loss = 0.45571828\n",
      "Iteration 30, loss = 0.45493692\n",
      "Iteration 31, loss = 0.45478464\n",
      "Iteration 32, loss = 0.45499942\n",
      "Iteration 33, loss = 0.45465558\n",
      "Iteration 34, loss = 0.45469685\n",
      "Iteration 35, loss = 0.45481107\n",
      "Iteration 36, loss = 0.45438196\n",
      "Iteration 37, loss = 0.45441523\n",
      "Iteration 38, loss = 0.45475864\n",
      "Iteration 39, loss = 0.45475816\n",
      "Iteration 40, loss = 0.45440265\n",
      "Iteration 41, loss = 0.45442996\n",
      "Iteration 42, loss = 0.45654658\n",
      "Iteration 43, loss = 0.45534386\n",
      "Iteration 44, loss = 0.45508884\n",
      "Iteration 45, loss = 0.45437908\n",
      "Iteration 46, loss = 0.45414158\n",
      "Iteration 47, loss = 0.45484475\n",
      "Iteration 48, loss = 0.45485201\n",
      "Iteration 49, loss = 0.45456059\n",
      "Iteration 50, loss = 0.45460052\n",
      "Iteration 51, loss = 0.45427596\n",
      "Iteration 52, loss = 0.45615522\n",
      "Iteration 53, loss = 0.45484467\n",
      "Iteration 54, loss = 0.45533433\n",
      "Iteration 55, loss = 0.45512896\n",
      "Iteration 56, loss = 0.45437398\n",
      "Iteration 57, loss = 0.45423192\n",
      "Training loss did not improve more than tol=0.000100 for 10 consecutive epochs. Stopping.\n"
     ]
    }
   ],
   "source": [
    "classifier = MLPClassifier(hidden_layer_sizes = (2,),  activation=\"logistic\",   solver=\"adam\", alpha =1e-5, momentum = 0.3, \n",
    "learning_rate_init=0.1, verbose=True)\n",
    "classifier = classifier.fit(X_train, Y_train)"
   ]
  },
  {
   "cell_type": "code",
   "execution_count": 71,
   "id": "eb662c42",
   "metadata": {},
   "outputs": [
    {
     "name": "stdout",
     "output_type": "stream",
     "text": [
      "0.8308605341246291\n"
     ]
    }
   ],
   "source": [
    "Accuracy = classifier.score(X_train, Y_train)\n",
    "print(Accuracy)"
   ]
  },
  {
   "cell_type": "code",
   "execution_count": 70,
   "id": "e64400b3",
   "metadata": {},
   "outputs": [
    {
     "name": "stdout",
     "output_type": "stream",
     "text": [
      "              precision    recall  f1-score   support\n",
      "\n",
      "           0       0.82      0.99      0.90       133\n",
      "           1       0.89      0.22      0.36        36\n",
      "\n",
      "    accuracy                           0.83       169\n",
      "   macro avg       0.86      0.61      0.63       169\n",
      "weighted avg       0.84      0.83      0.78       169\n",
      "\n"
     ]
    },
    {
     "data": {
      "text/plain": [
       "0.8284023668639053"
      ]
     },
     "execution_count": 70,
     "metadata": {},
     "output_type": "execute_result"
    }
   ],
   "source": [
    "from sklearn.metrics import accuracy_score, classification_report\n",
    "Y_predict = classifier.predict(X_test)\n",
    "score_test_ = accuracy_score(Y_test,Y_predict)\n",
    "print(classification_report(Y_test,Y_predict))\n",
    "score_test_"
   ]
  },
  {
   "cell_type": "code",
   "execution_count": 42,
   "id": "651c0821",
   "metadata": {},
   "outputs": [],
   "source": [
    "from sklearn.metrics import confusion_matrix"
   ]
  },
  {
   "cell_type": "code",
   "execution_count": 55,
   "id": "1dba7f28",
   "metadata": {},
   "outputs": [
    {
     "name": "stdout",
     "output_type": "stream",
     "text": [
      "confusion matrix:\n",
      "[[132   1]\n",
      " [ 28   8]]\n"
     ]
    }
   ],
   "source": [
    "predictions = classifier.predict(X_test)\n",
    "print(\"confusion matrix:\")\n",
    "print(confusion_matrix(Y_test, predictions))\n"
   ]
  },
  {
   "cell_type": "code",
   "execution_count": null,
   "id": "85588cc7",
   "metadata": {},
   "outputs": [],
   "source": [
    "Step3"
   ]
  },
  {
   "cell_type": "code",
   "execution_count": 72,
   "id": "f563195f",
   "metadata": {},
   "outputs": [
    {
     "name": "stdout",
     "output_type": "stream",
     "text": [
      "predicted (on testing set) : 22.22%\n",
      "\n",
      "predicted (on testing set) : 99.25%\n",
      "\n"
     ]
    }
   ],
   "source": [
    "y_pred = classifier.predict(X_test)\n",
    "conf_matrix = confusion_matrix(Y_test,y_pred)\n",
    "\n",
    "TN = conf_matrix[0][0]\n",
    "FN = conf_matrix[1][0]\n",
    "TP = conf_matrix[1][1]\n",
    "FP = conf_matrix[0][1]\n",
    "precision_test =TP/(TP+FN)\n",
    "recall_test= TN/(FP+TN)\n",
    "print(\"predicted (on testing set) : {0:.2f}%\\n\".format(precision_test*100))\n",
    "print(\"predicted (on testing set) : {0:.2f}%\\n\".format(recall_test*100))"
   ]
  },
  {
   "cell_type": "code",
   "execution_count": 76,
   "id": "14b0a808",
   "metadata": {},
   "outputs": [
    {
     "name": "stdout",
     "output_type": "stream",
     "text": [
      "In sample percent survivors correctly predicted: 11.20%\n",
      "In sample percent fatalaties correctly predicted: 99.45%\n",
      "Out sample percent survivors correctly predicted: 11.20%\n",
      "Out sample percent survivors correctly predicted: 99.45%\n"
     ]
    }
   ],
   "source": [
    "inSample_y = classifier.predict(X_train)\n",
    "inSampleSurvivors = 1 - sum(inSample_y[Y_train == 1] ^ Y_train[Y_train == 1]) / len(X_train[Y_train == 1])\n",
    "inSampleFatalities = 1 - sum(inSample_y[Y_train == 0] ^ Y_train[Y_train == 0]) / len(Y_train[Y_train == 0])\n",
    "\n",
    "# out-of-samples percent survivors/fatalities correctly predicted (on training set)\n",
    "outSample_y = classifier.predict(X_test)\n",
    "outSampleSurvivors = 1 - sum(inSample_y[Y_train == 1] ^ Y_train[Y_train == 1]) / len(Y_train[Y_train == 1])\n",
    "outSampleFatalities = 1 - sum(inSample_y[Y_train == 0] ^ Y_train[Y_train == 0]) / len(Y_train[Y_train == 0])\n",
    "\n",
    "print(\"In sample percent survivors correctly predicted: {:.2f}%\".format(inSampleSurvivors*100))\n",
    "print(\"In sample percent fatalaties correctly predicted: {:.2f}%\".format(inSampleFatalities*100))\n",
    "print(\"Out sample percent survivors correctly predicted: {:.2f}%\".format(outSampleSurvivors*100))\n",
    "print(\"Out sample percent survivors correctly predicted: {:.2f}%\".format(outSampleFatalities*100))"
   ]
  },
  {
   "cell_type": "markdown",
   "id": "f59ba44f",
   "metadata": {},
   "source": [
    "step 4: comparison"
   ]
  },
  {
   "cell_type": "code",
   "execution_count": 98,
   "id": "08a320ac",
   "metadata": {},
   "outputs": [
    {
     "name": "stdout",
     "output_type": "stream",
     "text": [
      "              precision    recall  f1-score   support\n",
      "\n",
      "           0       0.83      0.99      0.90       133\n",
      "           1       0.90      0.25      0.39        36\n",
      "\n",
      "    accuracy                           0.83       169\n",
      "   macro avg       0.87      0.62      0.65       169\n",
      "weighted avg       0.85      0.83      0.79       169\n",
      "\n"
     ]
    },
    {
     "data": {
      "text/plain": [
       "0.391304347826087"
      ]
     },
     "execution_count": 98,
     "metadata": {},
     "output_type": "execute_result"
    }
   ],
   "source": [
    "from sklearn.ensemble import RandomForestClassifier\n",
    "rfr = RandomForestClassifier(n_estimators = 50,max_depth=5)\n",
    "rfr.fit(X_train,Y_train)\n",
    "predictY_RandomForest = rfr.predict(X_test)\n",
    "score_test_RandomForestClassifier = accuracy_score(Y_test,predictY_RandomForest)\n",
    "score_test_RandomForestClassifier\n",
    "print(classification_report(Y_test,predictY_RandomForest))\n",
    "from sklearn.metrics import f1_score\n",
    "f1_score(Y_test,predictY_RandomForest)"
   ]
  },
  {
   "cell_type": "code",
   "execution_count": 94,
   "id": "4381401e",
   "metadata": {},
   "outputs": [],
   "source": [
    "accuracy = [0.68,0.70]\n",
    "classifier = ['out-of-sample' , 'RandomForest']"
   ]
  },
  {
   "cell_type": "code",
   "execution_count": 96,
   "id": "6c82df79",
   "metadata": {},
   "outputs": [
    {
     "data": {
      "image/png": "[encoded data removed]",
      "text/plain": [
       "<Figure size 432x288 with 1 Axes>"
      ]
     },
     "metadata": {
      "needs_background": "light"
     },
     "output_type": "display_data"
    }
   ],
   "source": [
    "fig = plt.figure()\n",
    "\n",
    "axis = fig.add_axes([0,0,1,1])\n",
    "axis.bar(classifier , accuracy)\n",
    "plt.show()"
   ]
  },
  {
   "cell_type": "markdown",
   "id": "e63bc9fa",
   "metadata": {},
   "source": [
    "By this bar graph we can see that Random forest has more accuracy compare to out of sample accuracy"
   ]
  }
 ],
 "metadata": {
  "kernelspec": {
   "display_name": "Python 3",
   "language": "python",
   "name": "python3"
  },
  "language_info": {
   "codemirror_mode": {
    "name": "ipython",
    "version": 3
   },
   "file_extension": ".py",
   "mimetype": "text/x-python",
   "name": "python",
   "nbconvert_exporter": "python",
   "pygments_lexer": "ipython3",
   "version": "3.8.8"
  }
 },
 "nbformat": 4,
 "nbformat_minor": 5
}
